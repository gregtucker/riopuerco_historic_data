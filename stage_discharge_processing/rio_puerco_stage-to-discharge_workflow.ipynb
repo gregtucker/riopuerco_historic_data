{
 "cells": [
  {
   "cell_type": "markdown",
   "metadata": {},
   "source": [
    "# Rio Puerco historic data stage-to-discharge conversion procedure"
   ]
  },
  {
   "cell_type": "markdown",
   "metadata": {},
   "source": [
    "This notebook reviews---and encodes!---the workflow for processing historical records of flow stage on the Rio Puerco, New Mexico.\n",
    "\n",
    "(Written by Greg Tucker, July 2015. Modified Jan 2016)"
   ]
  },
  {
   "cell_type": "markdown",
   "metadata": {},
   "source": [
    "## Step 1: prepare data in the work spreadsheet"
   ]
  },
  {
   "cell_type": "markdown",
   "metadata": {},
   "source": [
    "The basic data consist of dates/times and gage-height measurements. There is one spreadsheet file per year, and within each file the data are grouped by day. The data were digitized from paper strip-chart records. Typically, only a few days of each year are represented: those that had significant flow.\n",
    "A typical view of a spreadsheet looks like this:"
   ]
  },
  {
   "cell_type": "markdown",
   "metadata": {},
   "source": [
    "<img src=\"spreadsheet_ex1.png\">"
   ]
  },
  {
   "cell_type": "markdown",
   "metadata": {},
   "source": [
    "Here the first day (4/29/41) has been processed already, as has part of the second."
   ]
  },
  {
   "cell_type": "markdown",
   "metadata": {},
   "source": [
    "### Step 1a: convert date/time to a serial number"
   ]
  },
  {
   "cell_type": "markdown",
   "metadata": {},
   "source": [
    "We need to turn the date and time into a single number that represents the number of days elapsed since 1900. But first, we need to fill in the blue rows. These denote individual days in the record. We want each to contain the date/time value of midnight on the previous day (as in the example of 1941 04 30 0:00). Fill in these values in the blue columns MONTH, DAY, and TIME. Then use the Date() function in column E to turn these values into a single number. Add the time too. So, for example, in row 11, you'd insert: ``Date(A11, B11, C11) + D11''. Then drag this down through the full column for the file. Below we've done now done this for 5/1/41: <img src=\"spreadsheet_ex2.png\">"
   ]
  },
  {
   "cell_type": "markdown",
   "metadata": {},
   "source": [
    "### Step 1b: fill in missing stage values"
   ]
  },
  {
   "cell_type": "markdown",
   "metadata": {},
   "source": [
    "Note that the blue columns, representing the very beginning/end of each day, are missing values. Interpolate between succeeding stage readings to fill these in. For cases, like this example, where the stage reading is the same before and after, it's easy: just enter the same value, as below: <img src=\"spreadsheet_ex3.png\">"
   ]
  },
  {
   "cell_type": "markdown",
   "metadata": {},
   "source": [
    "If the values are different, enter a formula in the \"blue\" cell to interpolate between them. The key is to have an accurate value for the beginning and end of each day, so we can calculate a meaningful (no pun) daily mean discharge."
   ]
  },
  {
   "cell_type": "markdown",
   "metadata": {},
   "source": [
    "### Step 1c: export the data for the day into a .csv file"
   ]
  },
  {
   "cell_type": "markdown",
   "metadata": {},
   "source": [
    "Highlight columns E and F for the day in question (for example, 5/1/41). Copy these into a new spreadsheet. Save it as a .csv file, with a name like: rp_stage_time410501.csv. This file should then contain two columns of numbers separated by commas, as for example: <img src=\"csv_file_example.png\">"
   ]
  },
  {
   "cell_type": "markdown",
   "metadata": {},
   "source": [
    "Note how this record covers a full day, from midnight on 4/30/41 (=15097) to midnight on 5/1/41 (=15098)."
   ]
  },
  {
   "cell_type": "markdown",
   "metadata": {},
   "source": [
    "## Step 2: using Python code to compute the stage-discharge relationship, and to find the stage shift that minimizes the difference between observed and computed daily mean discharge."
   ]
  },
  {
   "cell_type": "markdown",
   "metadata": {},
   "source": [
    "Start with some imports, and we'll define the step increment in stage that we'll use to iteratively adjust the rating table until we find a match between observed and calculated daily mean discharge."
   ]
  },
  {
   "cell_type": "code",
   "execution_count": 42,
   "metadata": {
    "collapsed": false
   },
   "outputs": [],
   "source": [
    "import numpy\n",
    "import pylab\n",
    "\n",
    "\n",
    "dh = 0.005  # stage adjustment increment, feet"
   ]
  },
  {
   "cell_type": "markdown",
   "metadata": {
    "collapsed": true
   },
   "source": [
    "In a moment, we'll need a function to compute the daily mean discharge from a set of (time, discharge) pairs, so let's define it now."
   ]
  },
  {
   "cell_type": "code",
   "execution_count": 3,
   "metadata": {
    "collapsed": true
   },
   "outputs": [],
   "source": [
    "def calc_mean_daily_discharge(t, q):\n",
    "    \"\"\"\n",
    "    Uses the trapezoid method to compute mean discharge given a set of times\n",
    "    and values.\n",
    "    \n",
    "    Parameters\n",
    "    ----------\n",
    "    t : array of float\n",
    "        Times (in days) for discharge values\n",
    "    q : array of float\n",
    "        Discharge values (cfs)\n",
    "        \n",
    "    Example\n",
    "    -------\n",
    "    >>> import numpy\n",
    "    >>> t = numpy.array([0., 2., 3., 8.])\n",
    "    >>> q = numpy.array([2., 3., 5., 1.])\n",
    "    >>> calc_mean_daily_discharge(t, q)\n",
    "    3.0\n",
    "    \"\"\"\n",
    "    n = len(t)\n",
    "    assert(len(q)==n), 'unequal number of values for time and discharge'\n",
    "    if n==1:  # if just one record, it IS the mean\n",
    "        return q[0]\n",
    "    dt = t[1:]-t[:n-1]          # time increment between readings\n",
    "    qpair = (q[:n-1]+q[1:])/2   # average discharge between pairs\n",
    "    total_time = t[-1] - t[0]   # elapsed time from beginning to end of record\n",
    "    assert (total_time>0.0), 'hydrograph must have duration >0'\n",
    "    return numpy.sum(dt*qpair)/total_time  # return the weighted average\n",
    "    "
   ]
  },
  {
   "cell_type": "markdown",
   "metadata": {},
   "source": [
    "Enter the name of the rating table to be used. This can be found in column I of the spreadsheet. Find the corresponding file, and enter its name as ``rating_table_filename``:"
   ]
  },
  {
   "cell_type": "code",
   "execution_count": 4,
   "metadata": {
    "collapsed": true
   },
   "outputs": [],
   "source": [
    "rating_table_filename = 'rating_table_19381001to19450930.csv'"
   ]
  },
  {
   "cell_type": "markdown",
   "metadata": {},
   "source": [
    "Enter the name of the .csv file you created in step 1c above as ``hydrograph_filename``:"
   ]
  },
  {
   "cell_type": "code",
   "execution_count": 11,
   "metadata": {
    "collapsed": true
   },
   "outputs": [],
   "source": [
    "hydrograph_filename = 'rp_stage_time410501.csv'   # stage vs time, in ft and decimal days"
   ]
  },
  {
   "cell_type": "markdown",
   "metadata": {},
   "source": [
    "Now, enter the reported daily mean discharge in cfs, as ``qm``. For the \"Rio Puerco at Rio Puerco\" gage, the value can be found in the spreadsheet file \"RPatRP_DailyMeanDischarge.xlsx\". For the Bernardo gage, the value can be found in \"RPnrBer_DailyMeanDischarge.xlsx\"."
   ]
  },
  {
   "cell_type": "code",
   "execution_count": 31,
   "metadata": {
    "collapsed": true
   },
   "outputs": [],
   "source": [
    "qm = 414.0  # mean daily Q for this day, in cfs"
   ]
  },
  {
   "cell_type": "markdown",
   "metadata": {},
   "source": [
    "Read in the rating table:"
   ]
  },
  {
   "cell_type": "code",
   "execution_count": 32,
   "metadata": {
    "collapsed": false
   },
   "outputs": [],
   "source": [
    "rt = numpy.loadtxt(rating_table_filename, delimiter=',')\n",
    "rt_gage_height = numpy.array(rt[:,0])\n",
    "rt_discharge = numpy.array(rt[:,1])"
   ]
  },
  {
   "cell_type": "markdown",
   "metadata": {
    "collapsed": true
   },
   "source": [
    "Plot it to make sure it's ok."
   ]
  },
  {
   "cell_type": "code",
   "execution_count": 33,
   "metadata": {
    "collapsed": false
   },
   "outputs": [
    {
     "name": "stdout",
     "output_type": "stream",
     "text": [
      "Populating the interactive namespace from numpy and matplotlib\n"
     ]
    },
    {
     "data": {
      "text/plain": [
       "<matplotlib.text.Text at 0x10710e850>"
      ]
     },
     "execution_count": 33,
     "metadata": {},
     "output_type": "execute_result"
    },
    {
     "data": {
      "image/png": "[encoded data removed]",
      "text/plain": [
       "<matplotlib.figure.Figure at 0x10755ecd0>"
      ]
     },
     "metadata": {},
     "output_type": "display_data"
    }
   ],
   "source": [
    "%pylab inline\n",
    "pylab.figure(1)\n",
    "pylab.plot(rt_gage_height, rt_discharge, '.-')\n",
    "pylab.xlabel('GAGE HEIGHT (ft)')\n",
    "pylab.ylabel('DISCHARGE (cfs)')"
   ]
  },
  {
   "cell_type": "markdown",
   "metadata": {},
   "source": [
    "Read in the time-stage data:"
   ]
  },
  {
   "cell_type": "code",
   "execution_count": 34,
   "metadata": {
    "collapsed": true
   },
   "outputs": [],
   "source": [
    "hydro_data = numpy.loadtxt(hydrograph_filename, delimiter=',')\n",
    "decimal_day = hydro_data[:,0]\n",
    "gage_height = hydro_data[:,1]"
   ]
  },
  {
   "cell_type": "markdown",
   "metadata": {},
   "source": [
    "Let's plot this information too, to make sure all is well."
   ]
  },
  {
   "cell_type": "code",
   "execution_count": 35,
   "metadata": {
    "collapsed": false
   },
   "outputs": [
    {
     "data": {
      "text/plain": [
       "<matplotlib.text.Text at 0x1077cb290>"
      ]
     },
     "execution_count": 35,
     "metadata": {},
     "output_type": "execute_result"
    },
    {
     "data": {
      "image/png": "[encoded data removed]",
      "text/plain": [
       "<matplotlib.figure.Figure at 0x10755e350>"
      ]
     },
     "metadata": {},
     "output_type": "display_data"
    }
   ],
   "source": [
    "pylab.plot(decimal_day, gage_height)\n",
    "pylab.xlabel('TIME (days from 1900)')\n",
    "pylab.ylabel('GAGE HEIGHT (ft)')"
   ]
  },
  {
   "cell_type": "markdown",
   "metadata": {},
   "source": [
    "Find discharge corresponding to stage records via linear interpolation, the corresponding daily mean discharge, and the percent error:"
   ]
  },
  {
   "cell_type": "code",
   "execution_count": 57,
   "metadata": {
    "collapsed": true
   },
   "outputs": [],
   "source": [
    "q = numpy.interp(gage_height, rt_gage_height, rt_discharge)\n",
    "qm_pred0 = calc_mean_daily_discharge(decimal_day, q)\n",
    "q_err0 = (qm-qm_pred0)/qm"
   ]
  },
  {
   "cell_type": "code",
   "execution_count": 58,
   "metadata": {
    "collapsed": false
   },
   "outputs": [
    {
     "data": {
      "text/plain": [
       "(414.0, 607.16402723483407, -0.46657977592955091)"
      ]
     },
     "execution_count": 58,
     "metadata": {},
     "output_type": "execute_result"
    }
   ],
   "source": [
    "qm, qm_pred0, q_err0"
   ]
  },
  {
   "cell_type": "markdown",
   "metadata": {},
   "source": [
    "If the % error is less than 5%, we're good to go. More likely, however, it will be way off, so we will iterate on adjusting the stage shift until we find a better match. This is a simple stepping algorith in which we increase or decrease the stage measurements until the sign of the error reverses, meaning we've crossed a minimum point."
   ]
  },
  {
   "cell_type": "code",
   "execution_count": 62,
   "metadata": {
    "collapsed": false
   },
   "outputs": [
    {
     "name": "stdout",
     "output_type": "stream",
     "text": [
      "adjustment = -0.005   qm_pred = 600.225312235   q_err = -0.44981959477\n",
      "adjustment = -0.01   qm_pred = 593.305579903   q_err = -0.433105265467\n",
      "adjustment = -0.015   qm_pred = 586.482252431   q_err = -0.416623798142\n",
      "adjustment = -0.02   qm_pred = 579.871942798   q_err = -0.400656866662\n",
      "adjustment = -0.025   qm_pred = 573.265170298   q_err = -0.384698478981\n",
      "adjustment = -0.03   qm_pred = 566.676703489   q_err = -0.368784307943\n",
      "adjustment = -0.035   qm_pred = 560.109059315   q_err = -0.352920433128\n",
      "adjustment = -0.04   qm_pred = 553.551122888   q_err = -0.337080006975\n",
      "adjustment = -0.045   qm_pred = 547.176707922   q_err = -0.321682869377\n",
      "adjustment = -0.05   qm_pred = 540.835040422   q_err = -0.306364831937\n",
      "adjustment = -0.055   qm_pred = 534.516864148   q_err = -0.291103536588\n",
      "adjustment = -0.06   qm_pred = 528.223151171   q_err = -0.275901331332\n",
      "adjustment = -0.065   qm_pred = 521.943487922   q_err = -0.260733062613\n",
      "adjustment = -0.07   qm_pred = 515.688105422   q_err = -0.245623443048\n",
      "adjustment = -0.075   qm_pred = 509.432722922   q_err = -0.230513823483\n",
      "adjustment = -0.08   qm_pred = 503.179659004   q_err = -0.215409804357\n",
      "adjustment = -0.085   qm_pred = 496.930351504   q_err = -0.200314858705\n",
      "adjustment = -0.09   qm_pred = 490.681044004   q_err = -0.185219913053\n",
      "adjustment = -0.095   qm_pred = 484.431736504   q_err = -0.170124967401\n",
      "adjustment = -0.1   qm_pred = 478.189871937   q_err = -0.155047999848\n",
      "adjustment = -0.105   qm_pred = 472.104109437   q_err = -0.140348090427\n",
      "adjustment = -0.11   qm_pred = 466.046620532   q_err = -0.125716474715\n",
      "adjustment = -0.115   qm_pred = 460.104351883   q_err = -0.1113631688\n",
      "adjustment = -0.12   qm_pred = 454.344762375   q_err = -0.0974511168477\n",
      "adjustment = -0.125   qm_pred = 448.586946125   q_err = -0.0835433481279\n",
      "adjustment = -0.13   qm_pred = 442.84163113   q_err = -0.0696657756768\n",
      "adjustment = -0.135   qm_pred = 437.112005707   q_err = -0.0558261007406\n",
      "adjustment = -0.14   qm_pred = 431.397869102   q_err = -0.0420238384102\n",
      "adjustment = -0.145   qm_pred = 425.823047253   q_err = -0.0285580851513\n",
      "adjustment = -0.15   qm_pred = 420.272786003   q_err = -0.0151516570112\n",
      "adjustment = -0.155   qm_pred = 414.734270365   q_err = -0.00177359991653\n",
      "adjustment = -0.16   qm_pred = 409.214603639   q_err = 0.0115589284074\n"
     ]
    }
   ],
   "source": [
    "niter = 0\n",
    "h_adj = 0.0\n",
    "prev_q_err = q_err0\n",
    "best_adj = 0.0\n",
    "best_qm = qm_pred0\n",
    "best_abs_q_err = abs(q_err0)\n",
    "dir_adj = numpy.sign(q_err0)\n",
    "q_err = q_err0\n",
    "while abs(q_err)<=abs(prev_q_err) and niter<100:\n",
    "    h_adj += dir_adj*dh\n",
    "    q = numpy.interp(gage_height+h_adj, rt_gage_height, rt_discharge)\n",
    "    qm_pred = calc_mean_daily_discharge(decimal_day, q)\n",
    "    prev_q_err = q_err\n",
    "    q_err = (qm-qm_pred)/qm\n",
    "    print 'adjustment =',h_adj,'  qm_pred =',qm_pred,'  q_err =',q_err\n",
    "    if abs(q_err)<best_abs_q_err:\n",
    "        best_qm = qm_pred\n",
    "        best_abs_q_err = abs(q_err)\n",
    "        best_adj = h_adj\n",
    "    niter += 1"
   ]
  },
  {
   "cell_type": "markdown",
   "metadata": {},
   "source": [
    "Here's the best-fit stage adjustment (in feet), and the corresponding % error:"
   ]
  },
  {
   "cell_type": "code",
   "execution_count": 63,
   "metadata": {
    "collapsed": false
   },
   "outputs": [
    {
     "data": {
      "text/plain": [
       "(414.73427036544274, -0.15500000000000005, 0.17735999165283564)"
      ]
     },
     "execution_count": 63,
     "metadata": {},
     "output_type": "execute_result"
    }
   ],
   "source": [
    "best_qm, best_adj, 100*best_abs_q_err"
   ]
  },
  {
   "cell_type": "markdown",
   "metadata": {},
   "source": [
    "Since we probably overshot the best-fit, go back and interpolate again with our best-fit adjustment."
   ]
  },
  {
   "cell_type": "code",
   "execution_count": 66,
   "metadata": {
    "collapsed": true
   },
   "outputs": [],
   "source": [
    "q = numpy.interp(gage_height+best_adj, rt_gage_height, rt_discharge)"
   ]
  },
  {
   "cell_type": "markdown",
   "metadata": {},
   "source": [
    "Plot the resulting hydrograph (alongside the daily mean) to make sure it looks reasonable."
   ]
  },
  {
   "cell_type": "code",
   "execution_count": 67,
   "metadata": {
    "collapsed": false
   },
   "outputs": [
    {
     "data": {
      "text/plain": [
       "<matplotlib.text.Text at 0x107d0aa10>"
      ]
     },
     "execution_count": 67,
     "metadata": {},
     "output_type": "execute_result"
    },
    {
     "data": {
      "image/png": "[encoded data removed]",
      "text/plain": [
       "<matplotlib.figure.Figure at 0x107ad5b50>"
      ]
     },
     "metadata": {},
     "output_type": "display_data"
    }
   ],
   "source": [
    "pylab.plot(decimal_day, q)\n",
    "pylab.plot([decimal_day[0], decimal_day[-1]], [qm, qm], 'r')\n",
    "pylab.xlabel('TIME (days from 1900)')\n",
    "pylab.ylabel('DISCHARGE (cfs)')"
   ]
  },
  {
   "cell_type": "markdown",
   "metadata": {},
   "source": [
    "Write the results to a pair of files."
   ]
  },
  {
   "cell_type": "code",
   "execution_count": 68,
   "metadata": {
    "collapsed": false
   },
   "outputs": [
    {
     "data": {
      "text/plain": [
       "array([  191.75      ,   195.2450759 ,   195.2450759 ,   217.89754445,\n",
       "         274.77245   ,   282.386725  ,   286.193863  ,   290.001001  ,\n",
       "         310.940258  ,   525.3638028 ,   905.7135063 ,   993.5727244 ,\n",
       "         976.9069784 ,  1054.2489799 ,  1075.7541364 ,  1054.2489799 ,\n",
       "        1012.9891248 ,   991.1456735 ,   906.1989158 ,   929.2558934 ,\n",
       "         894.0636647 ,   892.8501401 ,   853.84968   ,   843.5704096 ,\n",
       "         850.        ])"
      ]
     },
     "execution_count": 68,
     "metadata": {},
     "output_type": "execute_result"
    }
   ],
   "source": [
    "output_filename = 'discharge-'+hydrograph_filename\n",
    "numpy.savetxt(output_filename, q)\n",
    "output_filename = 'adjusted_stage-'+hydrograph_filename\n",
    "numpy.savetxt(output_filename, gage_height+best_adj)\n",
    "q"
   ]
  },
  {
   "cell_type": "markdown",
   "metadata": {},
   "source": [
    "## Step 3: bring the data back to the spreadsheet"
   ]
  },
  {
   "cell_type": "markdown",
   "metadata": {},
   "source": [
    "In the column labeled BEST-FIT ADDITIONAL SHIFT (note: you might need to create this column), enter the best-fitting shift value calculated above (place it in each row). If column \"FINAL ADJUSTED GAGE HEIGHT\" (which you might also need to create) is not already filled in, enter the formula to calculate sum of ADJUSTED GAGE HEIGHT and BEST-FIT SHIFT. For example, the 5/1/41 record, with a best-fit shift of -0.155 ft, should look like: <img src=\"adjusted_gage_height410501.png\">"
   ]
  },
  {
   "cell_type": "markdown",
   "metadata": {},
   "source": [
    "Open the discharge text files, and paste its contents into the appropriate locations in the column labeled CALCULATED DISCHARGE. Also enter calculated daily mean, and configure the % ERROR column to calculate the percent error between reported and calculated. For example, for 5/1/41: <img src=\"discharge_entries.png\">"
   ]
  },
  {
   "cell_type": "markdown",
   "metadata": {},
   "source": [
    "That's all folks!"
   ]
  },
  {
   "cell_type": "code",
   "execution_count": null,
   "metadata": {
    "collapsed": true
   },
   "outputs": [],
   "source": []
  }
 ],
 "metadata": {
  "kernelspec": {
   "display_name": "Python 2",
   "language": "python",
   "name": "python2"
  },
  "language_info": {
   "codemirror_mode": {
    "name": "ipython",
    "version": 2
   },
   "file_extension": ".py",
   "mimetype": "text/x-python",
   "name": "python",
   "nbconvert_exporter": "python",
   "pygments_lexer": "ipython2",
   "version": "2.7.11"
  }
 },
 "nbformat": 4,
 "nbformat_minor": 0
}
